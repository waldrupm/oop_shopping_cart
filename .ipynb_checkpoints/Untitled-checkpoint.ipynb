{
 "cells": [
  {
   "cell_type": "code",
   "execution_count": 1,
   "metadata": {},
   "outputs": [],
   "source": [
    "from cart_funcs import App"
   ]
  },
  {
   "cell_type": "code",
   "execution_count": 2,
   "metadata": {},
   "outputs": [
    {
     "name": "stdout",
     "output_type": "stream",
     "text": [
      "==================================================\n",
      "Welcome to Wally-World.\n",
      "==================================================\n",
      "Your cart contains:\n",
      "Your cart is currently empty.\n",
      "==================================================\n",
      "What would you like to do? (a)dd item, (r)emove item, (s)how cart, (c)lear cart, or (q)uit?a\n",
      "Available Items:\n",
      "==================================================\n",
      "1: Apple - $1.0\n",
      "2: Bacon - $20.0\n",
      "3: Elbow Macaroni - $3.0\n",
      "4: Brown Rice - $2.0\n",
      "5: Garlic Powder - $1.0\n",
      "6: Cups - $2.0\n",
      "7: Carrot - $1.0\n",
      "8: Shrimp - $4.0\n",
      "9: Melon - $3.0\n",
      "10: Celery - $1.0\n",
      "11: Lettuce - $2.0\n",
      "12: Tuna - $5.0\n",
      "13: Sugar - $3.0\n",
      "14: Hot Dogs - $3.0\n",
      "15: Corn meal - $2.0\n",
      "16: Juice - $2.0\n",
      "17: Lasagna - $7.0\n",
      "18: Frosting - $2.0\n",
      "19: Cinnamon - $2.0\n",
      "20: Grapes - $3.0\n",
      "Please enter an item id to add. (the id is to the left of each name) 6\n",
      "How many of those would you like to add? 4\n",
      "==================================================\n",
      "Your cart contains:\n",
      "0: Cups X 4 @ $2.0\n",
      "Cart total is: $8.0\n",
      "==================================================\n",
      "==================================================\n",
      "What would you like to do? (a)dd item, (r)emove item, (s)how cart, (c)lear cart, or (q)uit?r\n",
      "==================================================\n",
      "==================================================\n",
      "Your cart contains:\n",
      "0: Cups X 4 @ $2.0\n",
      "Cart total is: $8.0\n",
      "==================================================\n",
      "==================================================\n",
      "Please enter the id of the item to remove. (id is left of name) 0\n",
      "How many to remove? (enter a number or 'all' to remove all) 2\n",
      "2 removed from the cart.\n",
      "Purged zero amt items\n",
      "==================================================\n",
      "Your cart contains:\n",
      "0: Cups X 2 @ $2.0\n",
      "Cart total is: $4.0\n",
      "==================================================\n",
      "==================================================\n",
      "What would you like to do? (a)dd item, (r)emove item, (s)how cart, (c)lear cart, or (q)uit?c\n",
      "Are you sure you want to clear cart? (Y/n)y\n",
      "==================================================\n",
      "Your cart contains:\n",
      "Your cart is currently empty.\n",
      "==================================================\n",
      "What would you like to do? (a)dd item, (r)emove item, (s)how cart, (c)lear cart, or (q)uit?q\n"
     ]
    }
   ],
   "source": [
    "app = App()"
   ]
  },
  {
   "cell_type": "code",
   "execution_count": null,
   "metadata": {},
   "outputs": [],
   "source": []
  }
 ],
 "metadata": {
  "kernelspec": {
   "display_name": "Python 3",
   "language": "python",
   "name": "python3"
  },
  "language_info": {
   "codemirror_mode": {
    "name": "ipython",
    "version": 3
   },
   "file_extension": ".py",
   "mimetype": "text/x-python",
   "name": "python",
   "nbconvert_exporter": "python",
   "pygments_lexer": "ipython3",
   "version": "3.7.6"
  }
 },
 "nbformat": 4,
 "nbformat_minor": 4
}
